{
 "cells": [
  {
   "cell_type": "code",
   "execution_count": 12,
   "metadata": {},
   "outputs": [],
   "source": [
    "import yaml\n",
    "import json\n",
    "import tweepy\n",
    "import datetime\n",
    "import pandas as pd\n",
    "import seaborn as sns\n",
    "import matplotlib.pyplot as plt\n",
    "\n",
    "from tqdm import tqdm"
   ]
  },
  {
   "cell_type": "code",
   "execution_count": 2,
   "metadata": {},
   "outputs": [],
   "source": [
    "with open(\"twitter_api.yaml\", \"r\") as yf:\n",
    "    data = yaml.safe_load(yf)"
   ]
  },
  {
   "cell_type": "code",
   "execution_count": 3,
   "metadata": {},
   "outputs": [],
   "source": [
    "## 認証処理\n",
    "consumer_key = data['consumer_key']\n",
    "consumer_secret = data['consumer_secret']\n",
    "access_token_key = data['access_token_key']\n",
    "access_token_secret = data['access_token_secret']\n",
    "auth = tweepy.OAuthHandler(consumer_key, consumer_secret)\n",
    "auth.set_access_token(access_token_key, access_token_secret)\n",
    "api = tweepy.API(auth)"
   ]
  },
  {
   "cell_type": "code",
   "execution_count": 4,
   "metadata": {},
   "outputs": [],
   "source": [
    "from requests_oauthlib import OAuth1Session\n",
    "\n",
    "KEYS = {\n",
    "    'consumer_key':consumer_key,\n",
    "    'consumer_secret':consumer_secret,\n",
    "    'access_token':access_token_key,\n",
    "    'access_secret':access_token_secret,\n",
    "}\n",
    "\n",
    "twitter = OAuth1Session(KEYS['consumer_key'],KEYS['consumer_secret'],KEYS['access_token'],KEYS['access_secret'])"
   ]
  },
  {
   "cell_type": "code",
   "execution_count": 5,
   "metadata": {},
   "outputs": [],
   "source": [
    "key_word = \"機械学習\""
   ]
  },
  {
   "cell_type": "code",
   "execution_count": 6,
   "metadata": {},
   "outputs": [],
   "source": [
    "url = \"https://api.twitter.com/1.1/search/tweets.json\"\n",
    "params ={'q': key_word, 'count':'100','lang':'ja', 'result_type':'recent'}\n",
    "res = twitter.get(url, params = params)"
   ]
  },
  {
   "cell_type": "code",
   "execution_count": 7,
   "metadata": {},
   "outputs": [],
   "source": [
    "def getTwitterData(key_word, repeat):\n",
    "    url = \"https://api.twitter.com/1.1/search/tweets.json\"\n",
    "    params ={'q': key_word, 'count':'100','lang':'ja', 'result_type':'recent'}\n",
    "    tweets = []\n",
    "    mid = -1\n",
    "    break_flag = 0\n",
    "    \n",
    "    for i in tqdm(range(repeat)):\n",
    "        params['max_id'] = mid\n",
    "        res = twitter.get(url, params = params)\n",
    "        if res.status_code == 200:\n",
    "            sub_tweets = json.loads(res.text)['statuses']\n",
    "            limit = res.headers['x-rate-limit-remaining'] if 'x-rate-limit-remaining' in res.headers else 0\n",
    "#            print(\"API残接続可能回数：%s\" % len(limit))            \n",
    "            tweet_ids = []\n",
    "            for tweet in sub_tweets:\n",
    "                tweet_ids.append(int(tweet['id']))\n",
    "                tweets.append(tweet)\n",
    "            if len(tweet_ids) > 0:\n",
    "                min_tweet_id = min(tweet_ids)\n",
    "                mid = min_tweet_id - 1\n",
    "            else:\n",
    "                break_flag = 1\n",
    "                break;\n",
    "                \n",
    "            ## 終了判定\n",
    "            if break_flag == 1:\n",
    "                break;\n",
    "                \n",
    "        else:\n",
    "            print(\"Failed: %d\" % res.status_code)\n",
    "            break_flag = 1\n",
    "    \n",
    "    print(\"ツイート取得数：%s\" % len(tweets))\n",
    "        \n",
    "    return tweets"
   ]
  },
  {
   "cell_type": "code",
   "execution_count": 8,
   "metadata": {},
   "outputs": [
    {
     "name": "stderr",
     "output_type": "stream",
     "text": [
      " 44%|████▍     | 80/180 [00:35<00:44,  2.24it/s]"
     ]
    },
    {
     "name": "stdout",
     "output_type": "stream",
     "text": [
      "ツイート取得数：7944\n"
     ]
    },
    {
     "name": "stderr",
     "output_type": "stream",
     "text": [
      "\n"
     ]
    }
   ],
   "source": [
    "tweets = getTwitterData(key_word, 180)"
   ]
  },
  {
   "cell_type": "code",
   "execution_count": 10,
   "metadata": {},
   "outputs": [
    {
     "name": "stdout",
     "output_type": "stream",
     "text": [
      "<class 'pandas.core.frame.DataFrame'>\n",
      "RangeIndex: 7944 entries, 0 to 7943\n",
      "Data columns (total 30 columns):\n",
      " #   Column                     Non-Null Count  Dtype  \n",
      "---  ------                     --------------  -----  \n",
      " 0   created_at                 7944 non-null   object \n",
      " 1   id                         7944 non-null   int64  \n",
      " 2   id_str                     7944 non-null   object \n",
      " 3   text                       7944 non-null   object \n",
      " 4   truncated                  7944 non-null   bool   \n",
      " 5   entities                   7944 non-null   object \n",
      " 6   metadata                   7944 non-null   object \n",
      " 7   source                     7944 non-null   object \n",
      " 8   in_reply_to_status_id      622 non-null    float64\n",
      " 9   in_reply_to_status_id_str  622 non-null    object \n",
      " 10  in_reply_to_user_id        629 non-null    float64\n",
      " 11  in_reply_to_user_id_str    629 non-null    object \n",
      " 12  in_reply_to_screen_name    629 non-null    object \n",
      " 13  user                       7944 non-null   object \n",
      " 14  geo                        0 non-null      object \n",
      " 15  coordinates                0 non-null      object \n",
      " 16  place                      18 non-null     object \n",
      " 17  contributors               0 non-null      object \n",
      " 18  is_quote_status            7944 non-null   bool   \n",
      " 19  retweet_count              7944 non-null   int64  \n",
      " 20  favorite_count             7944 non-null   int64  \n",
      " 21  favorited                  7944 non-null   bool   \n",
      " 22  retweeted                  7944 non-null   bool   \n",
      " 23  lang                       7944 non-null   object \n",
      " 24  retweeted_status           3958 non-null   object \n",
      " 25  possibly_sensitive         3286 non-null   object \n",
      " 26  quoted_status_id           582 non-null    float64\n",
      " 27  quoted_status_id_str       582 non-null    object \n",
      " 28  extended_entities          589 non-null    object \n",
      " 29  quoted_status              184 non-null    object \n",
      "dtypes: bool(4), float64(3), int64(3), object(20)\n",
      "memory usage: 1.6+ MB\n"
     ]
    },
    {
     "data": {
      "text/plain": [
       "None"
      ]
     },
     "metadata": {},
     "output_type": "display_data"
    }
   ],
   "source": [
    "df_tweets = pd.DataFrame(tweets)\n",
    "display(df_tweets.info())"
   ]
  },
  {
   "cell_type": "markdown",
   "metadata": {},
   "source": [
    "# 直近１週間のツイート数の推移"
   ]
  },
  {
   "cell_type": "code",
   "execution_count": 42,
   "metadata": {},
   "outputs": [
    {
     "data": {
      "text/html": [
       "<div>\n",
       "<style scoped>\n",
       "    .dataframe tbody tr th:only-of-type {\n",
       "        vertical-align: middle;\n",
       "    }\n",
       "\n",
       "    .dataframe tbody tr th {\n",
       "        vertical-align: top;\n",
       "    }\n",
       "\n",
       "    .dataframe thead th {\n",
       "        text-align: right;\n",
       "    }\n",
       "</style>\n",
       "<table border=\"1\" class=\"dataframe\">\n",
       "  <thead>\n",
       "    <tr style=\"text-align: right;\">\n",
       "      <th></th>\n",
       "      <th>created_at</th>\n",
       "      <th>id</th>\n",
       "    </tr>\n",
       "  </thead>\n",
       "  <tbody>\n",
       "    <tr>\n",
       "      <th>0</th>\n",
       "      <td>2020-09-02 12:00:00+00:00</td>\n",
       "      <td>34</td>\n",
       "    </tr>\n",
       "    <tr>\n",
       "      <th>1</th>\n",
       "      <td>2020-09-02 13:00:00+00:00</td>\n",
       "      <td>85</td>\n",
       "    </tr>\n",
       "    <tr>\n",
       "      <th>2</th>\n",
       "      <td>2020-09-02 14:00:00+00:00</td>\n",
       "      <td>71</td>\n",
       "    </tr>\n",
       "    <tr>\n",
       "      <th>3</th>\n",
       "      <td>2020-09-02 15:00:00+00:00</td>\n",
       "      <td>48</td>\n",
       "    </tr>\n",
       "    <tr>\n",
       "      <th>4</th>\n",
       "      <td>2020-09-02 16:00:00+00:00</td>\n",
       "      <td>20</td>\n",
       "    </tr>\n",
       "    <tr>\n",
       "      <th>...</th>\n",
       "      <td>...</td>\n",
       "      <td>...</td>\n",
       "    </tr>\n",
       "    <tr>\n",
       "      <th>206</th>\n",
       "      <td>2020-09-11 02:00:00+00:00</td>\n",
       "      <td>41</td>\n",
       "    </tr>\n",
       "    <tr>\n",
       "      <th>207</th>\n",
       "      <td>2020-09-11 03:00:00+00:00</td>\n",
       "      <td>49</td>\n",
       "    </tr>\n",
       "    <tr>\n",
       "      <th>208</th>\n",
       "      <td>2020-09-11 04:00:00+00:00</td>\n",
       "      <td>40</td>\n",
       "    </tr>\n",
       "    <tr>\n",
       "      <th>209</th>\n",
       "      <td>2020-09-11 05:00:00+00:00</td>\n",
       "      <td>43</td>\n",
       "    </tr>\n",
       "    <tr>\n",
       "      <th>210</th>\n",
       "      <td>2020-09-11 06:00:00+00:00</td>\n",
       "      <td>13</td>\n",
       "    </tr>\n",
       "  </tbody>\n",
       "</table>\n",
       "<p>211 rows × 2 columns</p>\n",
       "</div>"
      ],
      "text/plain": [
       "                   created_at  id\n",
       "0   2020-09-02 12:00:00+00:00  34\n",
       "1   2020-09-02 13:00:00+00:00  85\n",
       "2   2020-09-02 14:00:00+00:00  71\n",
       "3   2020-09-02 15:00:00+00:00  48\n",
       "4   2020-09-02 16:00:00+00:00  20\n",
       "..                        ...  ..\n",
       "206 2020-09-11 02:00:00+00:00  41\n",
       "207 2020-09-11 03:00:00+00:00  49\n",
       "208 2020-09-11 04:00:00+00:00  40\n",
       "209 2020-09-11 05:00:00+00:00  43\n",
       "210 2020-09-11 06:00:00+00:00  13\n",
       "\n",
       "[211 rows x 2 columns]"
      ]
     },
     "execution_count": 42,
     "metadata": {},
     "output_type": "execute_result"
    }
   ],
   "source": [
    "dateTimeIndex = pd.DatetimeIndex(df_tweets['created_at'])\n",
    "df_tweets.index = dateTimeIndex"
   ]
  },
  {
   "cell_type": "markdown",
   "metadata": {},
   "source": [
    "## 1時間ごと"
   ]
  },
  {
   "cell_type": "code",
   "execution_count": 43,
   "metadata": {},
   "outputs": [
    {
     "data": {
      "image/png": "[encoded data removed]",
      "text/plain": [
       "<Figure size 1440x360 with 1 Axes>"
      ]
     },
     "metadata": {
      "needs_background": "light"
     },
     "output_type": "display_data"
    }
   ],
   "source": [
    "plt.figure(figsize=(20,5))\n",
    "g = sns.barplot(x=\"created_at\", y=\"id\", data=df_tweets.resample(\"H\")[\"id\"].count().reset_index())\n",
    "labels = g.get_xticklabels()\n",
    "g.set_xticklabels(labels, rotation=90)\n",
    "plt.show()"
   ]
  },
  {
   "cell_type": "markdown",
   "metadata": {},
   "source": [
    "## 1日ごと"
   ]
  },
  {
   "cell_type": "code",
   "execution_count": 44,
   "metadata": {},
   "outputs": [
    {
     "data": {
      "image/png": "[encoded data removed]",
      "text/plain": [
       "<Figure size 1440x360 with 1 Axes>"
      ]
     },
     "metadata": {
      "needs_background": "light"
     },
     "output_type": "display_data"
    }
   ],
   "source": [
    "plt.figure(figsize=(20,5))\n",
    "g = sns.barplot(x=\"created_at\", y=\"id\", data=df_tweets.resample(\"D\")[\"id\"].count().reset_index())\n",
    "labels = g.get_xticklabels()\n",
    "g.set_xticklabels(labels, rotation=90)\n",
    "plt.show()"
   ]
  },
  {
   "cell_type": "markdown",
   "metadata": {},
   "source": [
    "# ツイートしたユニークユーザ数"
   ]
  },
  {
   "cell_type": "code",
   "execution_count": 91,
   "metadata": {},
   "outputs": [
    {
     "name": "stdout",
     "output_type": "stream",
     "text": [
      "7944\n",
      "5629\n"
     ]
    }
   ],
   "source": [
    "print(df_tweets['user'].shape[0])\n",
    "df_user_unique = df_tweets['user'].apply(lambda x: x['screen_name']).nunique()\n",
    "print(df_user_unique)"
   ]
  },
  {
   "cell_type": "code",
   "execution_count": null,
   "metadata": {},
   "outputs": [],
   "source": []
  }
 ],
 "metadata": {
  "kernelspec": {
   "display_name": "Python 3",
   "language": "python",
   "name": "python3"
  },
  "language_info": {
   "codemirror_mode": {
    "name": "ipython",
    "version": 3
   },
   "file_extension": ".py",
   "mimetype": "text/x-python",
   "name": "python",
   "nbconvert_exporter": "python",
   "pygments_lexer": "ipython3",
   "version": "3.8.5"
  }
 },
 "nbformat": 4,
 "nbformat_minor": 4
}
