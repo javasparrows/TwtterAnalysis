{
 "cells": [
  {
   "cell_type": "code",
   "execution_count": 1,
   "metadata": {},
   "outputs": [],
   "source": [
    "import yaml"
   ]
  },
  {
   "cell_type": "code",
   "execution_count": 2,
   "metadata": {},
   "outputs": [],
   "source": [
    "data = {'consumer_key': \"D2jFuWumJZ5wUGv2l5FkQUgnd\",\n",
    "        'consumer_secret': \"E2M1pK5YJ2naWx0W1d06BUeoj77lAtBNXlflH3X0v7rjRBmTAI\",\n",
    "        'access_token_key': \"1291358476690628609-S8P9eAIjGjXosSvyJ4fbAnaFuzXriS\",\n",
    "        'access_token_secret': \"fl6W9CMiEYiN37FlWrVnMRRaMRQAgEM8cmf8HFGR7A8vP\"}"
   ]
  },
  {
   "cell_type": "code",
   "execution_count": 3,
   "metadata": {},
   "outputs": [],
   "source": [
    "with open(\"twitter_api.yaml\", \"w\") as yf:\n",
    "    yaml.dump((data), yf, default_flow_style=False)"
   ]
  },
  {
   "cell_type": "code",
   "execution_count": null,
   "metadata": {},
   "outputs": [],
   "source": []
  }
 ],
 "metadata": {
  "kernelspec": {
   "display_name": "Python 3",
   "language": "python",
   "name": "python3"
  },
  "language_info": {
   "codemirror_mode": {
    "name": "ipython",
    "version": 3
   },
   "file_extension": ".py",
   "mimetype": "text/x-python",
   "name": "python",
   "nbconvert_exporter": "python",
   "pygments_lexer": "ipython3",
   "version": "3.8.5"
  }
 },
 "nbformat": 4,
 "nbformat_minor": 4
}
